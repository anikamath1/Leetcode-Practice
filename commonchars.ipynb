{
 "cells": [
  {
   "cell_type": "code",
   "execution_count": 8,
   "metadata": {},
   "outputs": [
    {
     "name": "stdout",
     "output_type": "stream",
     "text": [
      "bella label roller\n",
      "['label', 'roller']\n"
     ]
    }
   ],
   "source": [
    "array=input().split(\" \")\n",
    "str1=array[0]\n",
    "array.remove(str1)\n",
    "ans=[]\n",
    "newarray=[]\n",
    "print(array)"
   ]
  },
  {
   "cell_type": "code",
   "execution_count": 9,
   "metadata": {},
   "outputs": [
    {
     "name": "stdout",
     "output_type": "stream",
     "text": [
      "['label', 'roller']\n",
      "Appended----\n",
      "Appended----\n",
      "Appended----\n",
      "Appended----\n",
      "Appended----\n",
      "Appended----\n"
     ]
    }
   ],
   "source": [
    "print(array)\n",
    "for character in str1:\n",
    "    flag=1\n",
    "    for string in array:\n",
    "        if(str(character) not in string):\n",
    "            flag=0\n",
    "            break\n",
    "    newarray=array\n",
    "    if(flag==1):\n",
    "        ans.append(character)\n",
    "        newarray=[]\n",
    "        for x in array:\n",
    "            newstr=x.replace(character,\"\",1)\n",
    "            newarray.append(newstr)\n",
    "            print(\"Appended----\")\n",
    "   #print(newarray,\"is to be matched\")\n",
    "    array=newarray\n"
   ]
  },
  {
   "cell_type": "code",
   "execution_count": 10,
   "metadata": {},
   "outputs": [
    {
     "name": "stdout",
     "output_type": "stream",
     "text": [
      "['e', 'l', 'l']\n"
     ]
    }
   ],
   "source": [
    "print(ans)"
   ]
  },
  {
   "cell_type": "code",
   "execution_count": null,
   "metadata": {},
   "outputs": [],
   "source": []
  },
  {
   "cell_type": "code",
   "execution_count": null,
   "metadata": {},
   "outputs": [],
   "source": []
  },
  {
   "cell_type": "code",
   "execution_count": null,
   "metadata": {},
   "outputs": [],
   "source": []
  }
 ],
 "metadata": {
  "kernelspec": {
   "display_name": "Python 3",
   "language": "python",
   "name": "python3"
  },
  "language_info": {
   "codemirror_mode": {
    "name": "ipython",
    "version": 3
   },
   "file_extension": ".py",
   "mimetype": "text/x-python",
   "name": "python",
   "nbconvert_exporter": "python",
   "pygments_lexer": "ipython3",
   "version": "3.7.3"
  }
 },
 "nbformat": 4,
 "nbformat_minor": 2
}
